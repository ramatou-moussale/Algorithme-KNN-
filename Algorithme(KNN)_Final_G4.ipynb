{
 "cells": [
  {
   "cell_type": "markdown",
   "id": "4e633ad3",
   "metadata": {
    "id": "4e633ad3"
   },
   "source": [
    "# Implementation de la classification binaire en utilisant l'argorithme KNN"
   ]
  },
  {
   "cell_type": "markdown",
   "id": "a6d26bf4",
   "metadata": {
    "id": "a6d26bf4"
   },
   "source": [
    "### Les instructions:\n",
    "\n",
    "1) Importation du dataset\n",
    "\n",
    "2) Data preprocessing et du feature engineering\n",
    "\n",
    "2) Réalisation des traitements nécessaires\n",
    "\n"
   ]
  },
  {
   "cell_type": "markdown",
   "id": "bae6a1ad",
   "metadata": {
    "id": "bae6a1ad"
   },
   "source": [
    "### Importation des bibliothèques"
   ]
  },
  {
   "cell_type": "code",
   "execution_count": 1,
   "id": "e1ec9d98",
   "metadata": {
    "id": "e1ec9d98"
   },
   "outputs": [],
   "source": [
    "import numpy as np\n",
    "import pandas as pd\n",
    "import matplotlib.pyplot as plt\n",
    "from sklearn.model_selection import train_test_split\n",
    "from sklearn.neighbors import KNeighborsClassifier\n",
    "from sklearn.preprocessing import StandardScaler\n",
    "from sklearn.metrics import accuracy_score, precision_score, recall_score, f1_score"
   ]
  },
  {
   "cell_type": "markdown",
   "id": "eecbfba2",
   "metadata": {
    "id": "eecbfba2"
   },
   "source": [
    "### Importation du dataset "
   ]
  },
  {
   "cell_type": "code",
   "execution_count": 2,
   "id": "eacc44f9",
   "metadata": {
    "id": "eacc44f9"
   },
   "outputs": [],
   "source": [
    "path= 'C:/Users/MSIEA/Dataset.csv'\n",
    "ds= pd.read_csv(path)"
   ]
  },
  {
   "cell_type": "markdown",
   "id": "4615bf0a",
   "metadata": {
    "id": "4615bf0a"
   },
   "source": [
    "### Affichage des 20 premières lignes"
   ]
  },
  {
   "cell_type": "code",
   "execution_count": 3,
   "id": "f649f4d2",
   "metadata": {
    "colab": {
     "base_uri": "https://localhost:8080/",
     "height": 676
    },
    "id": "f649f4d2",
    "outputId": "3588fa44-78ea-4741-ec33-2e0066ebf2bd"
   },
   "outputs": [
    {
     "data": {
      "text/html": [
       "<div>\n",
       "<style scoped>\n",
       "    .dataframe tbody tr th:only-of-type {\n",
       "        vertical-align: middle;\n",
       "    }\n",
       "\n",
       "    .dataframe tbody tr th {\n",
       "        vertical-align: top;\n",
       "    }\n",
       "\n",
       "    .dataframe thead th {\n",
       "        text-align: right;\n",
       "    }\n",
       "</style>\n",
       "<table border=\"1\" class=\"dataframe\">\n",
       "  <thead>\n",
       "    <tr style=\"text-align: right;\">\n",
       "      <th></th>\n",
       "      <th>ID</th>\n",
       "      <th>Datetime</th>\n",
       "      <th>Sensor1_PM2.5</th>\n",
       "      <th>Sensor2_PM2.5</th>\n",
       "      <th>Temperature</th>\n",
       "      <th>Relative_Humidity</th>\n",
       "      <th>Offset_fault</th>\n",
       "    </tr>\n",
       "  </thead>\n",
       "  <tbody>\n",
       "    <tr>\n",
       "      <th>0</th>\n",
       "      <td>ID_QF0ZTQJ2SF5Q</td>\n",
       "      <td>2021-11-03 04:06:31</td>\n",
       "      <td>52.58</td>\n",
       "      <td>49.52</td>\n",
       "      <td>17.4</td>\n",
       "      <td>96.0</td>\n",
       "      <td>0</td>\n",
       "    </tr>\n",
       "    <tr>\n",
       "      <th>1</th>\n",
       "      <td>ID_4GTK689CNX5S</td>\n",
       "      <td>2021-11-08 18:43:23</td>\n",
       "      <td>35.25</td>\n",
       "      <td>33.40</td>\n",
       "      <td>25.0</td>\n",
       "      <td>75.0</td>\n",
       "      <td>0</td>\n",
       "    </tr>\n",
       "    <tr>\n",
       "      <th>2</th>\n",
       "      <td>ID_DL7VVKW9U7XQ</td>\n",
       "      <td>2021-11-07 09:50:33</td>\n",
       "      <td>19.18</td>\n",
       "      <td>23.50</td>\n",
       "      <td>24.9</td>\n",
       "      <td>75.0</td>\n",
       "      <td>0</td>\n",
       "    </tr>\n",
       "    <tr>\n",
       "      <th>3</th>\n",
       "      <td>ID_6XQOMBXM2DG3</td>\n",
       "      <td>2022-01-01 18:55:15</td>\n",
       "      <td>19.40</td>\n",
       "      <td>15.48</td>\n",
       "      <td>24.9</td>\n",
       "      <td>70.0</td>\n",
       "      <td>0</td>\n",
       "    </tr>\n",
       "    <tr>\n",
       "      <th>4</th>\n",
       "      <td>ID_UQZW9ISJY9QE</td>\n",
       "      <td>2021-11-05 22:23:48</td>\n",
       "      <td>38.30</td>\n",
       "      <td>34.77</td>\n",
       "      <td>20.9</td>\n",
       "      <td>89.0</td>\n",
       "      <td>0</td>\n",
       "    </tr>\n",
       "    <tr>\n",
       "      <th>5</th>\n",
       "      <td>ID_1A9CVG5BBKRT</td>\n",
       "      <td>2022-01-13 09:07:32</td>\n",
       "      <td>27.58</td>\n",
       "      <td>18.92</td>\n",
       "      <td>26.1</td>\n",
       "      <td>57.0</td>\n",
       "      <td>1</td>\n",
       "    </tr>\n",
       "    <tr>\n",
       "      <th>6</th>\n",
       "      <td>ID_O598XNF3QQ7H</td>\n",
       "      <td>2021-12-18 02:25:06</td>\n",
       "      <td>43.62</td>\n",
       "      <td>34.62</td>\n",
       "      <td>20.6</td>\n",
       "      <td>86.0</td>\n",
       "      <td>1</td>\n",
       "    </tr>\n",
       "    <tr>\n",
       "      <th>7</th>\n",
       "      <td>ID_MUEQIKPY6X5O</td>\n",
       "      <td>2021-11-11 04:18:59</td>\n",
       "      <td>104.35</td>\n",
       "      <td>98.00</td>\n",
       "      <td>20.3</td>\n",
       "      <td>94.0</td>\n",
       "      <td>0</td>\n",
       "    </tr>\n",
       "    <tr>\n",
       "      <th>8</th>\n",
       "      <td>ID_YOGZ8Q8O97ON</td>\n",
       "      <td>2021-12-19 06:17:43</td>\n",
       "      <td>19.22</td>\n",
       "      <td>13.25</td>\n",
       "      <td>19.3</td>\n",
       "      <td>92.0</td>\n",
       "      <td>1</td>\n",
       "    </tr>\n",
       "    <tr>\n",
       "      <th>9</th>\n",
       "      <td>ID_FR804PILRAZ0</td>\n",
       "      <td>2022-01-01 16:19:02</td>\n",
       "      <td>2.02</td>\n",
       "      <td>5.22</td>\n",
       "      <td>27.1</td>\n",
       "      <td>66.0</td>\n",
       "      <td>0</td>\n",
       "    </tr>\n",
       "    <tr>\n",
       "      <th>10</th>\n",
       "      <td>ID_NSGQTMHBADNB</td>\n",
       "      <td>2021-12-23 22:58:55</td>\n",
       "      <td>28.87</td>\n",
       "      <td>26.45</td>\n",
       "      <td>23.9</td>\n",
       "      <td>79.0</td>\n",
       "      <td>0</td>\n",
       "    </tr>\n",
       "    <tr>\n",
       "      <th>11</th>\n",
       "      <td>ID_V3S7ZUUFKSXJ</td>\n",
       "      <td>2022-01-14 10:26:42</td>\n",
       "      <td>45.98</td>\n",
       "      <td>41.88</td>\n",
       "      <td>23.8</td>\n",
       "      <td>72.0</td>\n",
       "      <td>0</td>\n",
       "    </tr>\n",
       "    <tr>\n",
       "      <th>12</th>\n",
       "      <td>ID_XHYKL0EPAVV9</td>\n",
       "      <td>2021-11-05 00:32:05</td>\n",
       "      <td>122.38</td>\n",
       "      <td>107.23</td>\n",
       "      <td>20.3</td>\n",
       "      <td>94.0</td>\n",
       "      <td>0</td>\n",
       "    </tr>\n",
       "    <tr>\n",
       "      <th>13</th>\n",
       "      <td>ID_BAF47VC3FW1B</td>\n",
       "      <td>2021-11-15 19:23:50</td>\n",
       "      <td>44.33</td>\n",
       "      <td>46.87</td>\n",
       "      <td>25.3</td>\n",
       "      <td>70.0</td>\n",
       "      <td>0</td>\n",
       "    </tr>\n",
       "    <tr>\n",
       "      <th>14</th>\n",
       "      <td>ID_RCBGAHSVXUZU</td>\n",
       "      <td>2022-01-11 11:29:36</td>\n",
       "      <td>8.18</td>\n",
       "      <td>5.47</td>\n",
       "      <td>30.2</td>\n",
       "      <td>45.0</td>\n",
       "      <td>1</td>\n",
       "    </tr>\n",
       "    <tr>\n",
       "      <th>15</th>\n",
       "      <td>ID_P0V6WUDSA06F</td>\n",
       "      <td>2022-01-02 14:06:46</td>\n",
       "      <td>3.53</td>\n",
       "      <td>4.45</td>\n",
       "      <td>29.1</td>\n",
       "      <td>64.0</td>\n",
       "      <td>0</td>\n",
       "    </tr>\n",
       "    <tr>\n",
       "      <th>16</th>\n",
       "      <td>ID_JYMYTXP56Q3I</td>\n",
       "      <td>2021-11-18 03:15:07</td>\n",
       "      <td>29.10</td>\n",
       "      <td>19.57</td>\n",
       "      <td>20.5</td>\n",
       "      <td>89.0</td>\n",
       "      <td>1</td>\n",
       "    </tr>\n",
       "    <tr>\n",
       "      <th>17</th>\n",
       "      <td>ID_3HVYWUPUPW97</td>\n",
       "      <td>2022-01-20 21:30:59</td>\n",
       "      <td>85.58</td>\n",
       "      <td>106.43</td>\n",
       "      <td>22.3</td>\n",
       "      <td>74.0</td>\n",
       "      <td>0</td>\n",
       "    </tr>\n",
       "    <tr>\n",
       "      <th>18</th>\n",
       "      <td>ID_SEQLSHOT15FT</td>\n",
       "      <td>2021-11-29 06:03:42</td>\n",
       "      <td>14.63</td>\n",
       "      <td>18.72</td>\n",
       "      <td>20.4</td>\n",
       "      <td>91.0</td>\n",
       "      <td>0</td>\n",
       "    </tr>\n",
       "    <tr>\n",
       "      <th>19</th>\n",
       "      <td>ID_7LMDG84QB66U</td>\n",
       "      <td>2021-11-11 05:24:41</td>\n",
       "      <td>86.48</td>\n",
       "      <td>75.33</td>\n",
       "      <td>20.4</td>\n",
       "      <td>95.0</td>\n",
       "      <td>0</td>\n",
       "    </tr>\n",
       "  </tbody>\n",
       "</table>\n",
       "</div>"
      ],
      "text/plain": [
       "                 ID             Datetime  Sensor1_PM2.5  Sensor2_PM2.5  \\\n",
       "0   ID_QF0ZTQJ2SF5Q  2021-11-03 04:06:31          52.58          49.52   \n",
       "1   ID_4GTK689CNX5S  2021-11-08 18:43:23          35.25          33.40   \n",
       "2   ID_DL7VVKW9U7XQ  2021-11-07 09:50:33          19.18          23.50   \n",
       "3   ID_6XQOMBXM2DG3  2022-01-01 18:55:15          19.40          15.48   \n",
       "4   ID_UQZW9ISJY9QE  2021-11-05 22:23:48          38.30          34.77   \n",
       "5   ID_1A9CVG5BBKRT  2022-01-13 09:07:32          27.58          18.92   \n",
       "6   ID_O598XNF3QQ7H  2021-12-18 02:25:06          43.62          34.62   \n",
       "7   ID_MUEQIKPY6X5O  2021-11-11 04:18:59         104.35          98.00   \n",
       "8   ID_YOGZ8Q8O97ON  2021-12-19 06:17:43          19.22          13.25   \n",
       "9   ID_FR804PILRAZ0  2022-01-01 16:19:02           2.02           5.22   \n",
       "10  ID_NSGQTMHBADNB  2021-12-23 22:58:55          28.87          26.45   \n",
       "11  ID_V3S7ZUUFKSXJ  2022-01-14 10:26:42          45.98          41.88   \n",
       "12  ID_XHYKL0EPAVV9  2021-11-05 00:32:05         122.38         107.23   \n",
       "13  ID_BAF47VC3FW1B  2021-11-15 19:23:50          44.33          46.87   \n",
       "14  ID_RCBGAHSVXUZU  2022-01-11 11:29:36           8.18           5.47   \n",
       "15  ID_P0V6WUDSA06F  2022-01-02 14:06:46           3.53           4.45   \n",
       "16  ID_JYMYTXP56Q3I  2021-11-18 03:15:07          29.10          19.57   \n",
       "17  ID_3HVYWUPUPW97  2022-01-20 21:30:59          85.58         106.43   \n",
       "18  ID_SEQLSHOT15FT  2021-11-29 06:03:42          14.63          18.72   \n",
       "19  ID_7LMDG84QB66U  2021-11-11 05:24:41          86.48          75.33   \n",
       "\n",
       "    Temperature  Relative_Humidity  Offset_fault  \n",
       "0          17.4               96.0             0  \n",
       "1          25.0               75.0             0  \n",
       "2          24.9               75.0             0  \n",
       "3          24.9               70.0             0  \n",
       "4          20.9               89.0             0  \n",
       "5          26.1               57.0             1  \n",
       "6          20.6               86.0             1  \n",
       "7          20.3               94.0             0  \n",
       "8          19.3               92.0             1  \n",
       "9          27.1               66.0             0  \n",
       "10         23.9               79.0             0  \n",
       "11         23.8               72.0             0  \n",
       "12         20.3               94.0             0  \n",
       "13         25.3               70.0             0  \n",
       "14         30.2               45.0             1  \n",
       "15         29.1               64.0             0  \n",
       "16         20.5               89.0             1  \n",
       "17         22.3               74.0             0  \n",
       "18         20.4               91.0             0  \n",
       "19         20.4               95.0             0  "
      ]
     },
     "execution_count": 3,
     "metadata": {},
     "output_type": "execute_result"
    }
   ],
   "source": [
    "ds.head(20)"
   ]
  },
  {
   "cell_type": "markdown",
   "id": "4c8cf02c",
   "metadata": {
    "id": "4c8cf02c"
   },
   "source": [
    "# Phase de data preprocessing et du feature engineering"
   ]
  },
  {
   "cell_type": "markdown",
   "id": "670ef6c3",
   "metadata": {
    "id": "670ef6c3"
   },
   "source": [
    "#### Visualisation de la structure du Dataset"
   ]
  },
  {
   "cell_type": "code",
   "execution_count": 4,
   "id": "07c922a5",
   "metadata": {
    "colab": {
     "base_uri": "https://localhost:8080/"
    },
    "id": "07c922a5",
    "outputId": "182f33ea-fe0c-4ecd-f16b-e75233ad53d0"
   },
   "outputs": [
    {
     "name": "stdout",
     "output_type": "stream",
     "text": [
      "<class 'pandas.core.frame.DataFrame'>\n",
      "RangeIndex: 297177 entries, 0 to 297176\n",
      "Data columns (total 7 columns):\n",
      " #   Column             Non-Null Count   Dtype  \n",
      "---  ------             --------------   -----  \n",
      " 0   ID                 297177 non-null  object \n",
      " 1   Datetime           297177 non-null  object \n",
      " 2   Sensor1_PM2.5      293563 non-null  float64\n",
      " 3   Sensor2_PM2.5      293563 non-null  float64\n",
      " 4   Temperature        293628 non-null  float64\n",
      " 5   Relative_Humidity  293628 non-null  float64\n",
      " 6   Offset_fault       297177 non-null  int64  \n",
      "dtypes: float64(4), int64(1), object(2)\n",
      "memory usage: 15.9+ MB\n"
     ]
    }
   ],
   "source": [
    "ds.info()"
   ]
  },
  {
   "cell_type": "markdown",
   "id": "126a5748",
   "metadata": {
    "id": "126a5748"
   },
   "source": [
    "#### Identification des valeurs manquantes"
   ]
  },
  {
   "cell_type": "code",
   "execution_count": 5,
   "id": "0ed0f289",
   "metadata": {
    "colab": {
     "base_uri": "https://localhost:8080/"
    },
    "id": "0ed0f289",
    "outputId": "2b3e5dd6-579f-4a77-d9a7-b7efb7da4106"
   },
   "outputs": [
    {
     "data": {
      "text/plain": [
       "ID                      0\n",
       "Datetime                0\n",
       "Sensor1_PM2.5        3614\n",
       "Sensor2_PM2.5        3614\n",
       "Temperature          3549\n",
       "Relative_Humidity    3549\n",
       "Offset_fault            0\n",
       "dtype: int64"
      ]
     },
     "execution_count": 5,
     "metadata": {},
     "output_type": "execute_result"
    }
   ],
   "source": [
    "ds.isnull().sum()"
   ]
  },
  {
   "cell_type": "markdown",
   "id": "635b9977",
   "metadata": {},
   "source": [
    "#### Affichage de toutes les colonnes du dataset"
   ]
  },
  {
   "cell_type": "code",
   "execution_count": 6,
   "id": "a5f14d49",
   "metadata": {
    "colab": {
     "base_uri": "https://localhost:8080/"
    },
    "id": "a5f14d49",
    "outputId": "d563f622-3ca6-4c03-88e5-e727ea0567ed"
   },
   "outputs": [
    {
     "data": {
      "text/plain": [
       "Index(['ID', 'Datetime', 'Sensor1_PM2.5', 'Sensor2_PM2.5', 'Temperature',\n",
       "       'Relative_Humidity', 'Offset_fault'],\n",
       "      dtype='object')"
      ]
     },
     "execution_count": 6,
     "metadata": {},
     "output_type": "execute_result"
    }
   ],
   "source": [
    "ds.columns"
   ]
  },
  {
   "cell_type": "markdown",
   "id": "569c9cea",
   "metadata": {},
   "source": [
    "#### La phase de sélection de colonnes et elémination des les lignes contenants des valeurs manquantes"
   ]
  },
  {
   "cell_type": "code",
   "execution_count": 7,
   "id": "5edfa005",
   "metadata": {
    "colab": {
     "base_uri": "https://localhost:8080/",
     "height": 676
    },
    "id": "5edfa005",
    "outputId": "8d33ffad-080e-4d2d-8b5a-ea4b796114fe"
   },
   "outputs": [
    {
     "data": {
      "text/html": [
       "<div>\n",
       "<style scoped>\n",
       "    .dataframe tbody tr th:only-of-type {\n",
       "        vertical-align: middle;\n",
       "    }\n",
       "\n",
       "    .dataframe tbody tr th {\n",
       "        vertical-align: top;\n",
       "    }\n",
       "\n",
       "    .dataframe thead th {\n",
       "        text-align: right;\n",
       "    }\n",
       "</style>\n",
       "<table border=\"1\" class=\"dataframe\">\n",
       "  <thead>\n",
       "    <tr style=\"text-align: right;\">\n",
       "      <th></th>\n",
       "      <th>Sensor1</th>\n",
       "      <th>Sensor2</th>\n",
       "      <th>Temperature</th>\n",
       "      <th>Humidity</th>\n",
       "      <th>Offset_fault</th>\n",
       "    </tr>\n",
       "  </thead>\n",
       "  <tbody>\n",
       "    <tr>\n",
       "      <th>0</th>\n",
       "      <td>52.58</td>\n",
       "      <td>49.52</td>\n",
       "      <td>17.4</td>\n",
       "      <td>96.0</td>\n",
       "      <td>0</td>\n",
       "    </tr>\n",
       "    <tr>\n",
       "      <th>1</th>\n",
       "      <td>35.25</td>\n",
       "      <td>33.40</td>\n",
       "      <td>25.0</td>\n",
       "      <td>75.0</td>\n",
       "      <td>0</td>\n",
       "    </tr>\n",
       "    <tr>\n",
       "      <th>2</th>\n",
       "      <td>19.18</td>\n",
       "      <td>23.50</td>\n",
       "      <td>24.9</td>\n",
       "      <td>75.0</td>\n",
       "      <td>0</td>\n",
       "    </tr>\n",
       "    <tr>\n",
       "      <th>3</th>\n",
       "      <td>19.40</td>\n",
       "      <td>15.48</td>\n",
       "      <td>24.9</td>\n",
       "      <td>70.0</td>\n",
       "      <td>0</td>\n",
       "    </tr>\n",
       "    <tr>\n",
       "      <th>4</th>\n",
       "      <td>38.30</td>\n",
       "      <td>34.77</td>\n",
       "      <td>20.9</td>\n",
       "      <td>89.0</td>\n",
       "      <td>0</td>\n",
       "    </tr>\n",
       "    <tr>\n",
       "      <th>5</th>\n",
       "      <td>27.58</td>\n",
       "      <td>18.92</td>\n",
       "      <td>26.1</td>\n",
       "      <td>57.0</td>\n",
       "      <td>1</td>\n",
       "    </tr>\n",
       "    <tr>\n",
       "      <th>6</th>\n",
       "      <td>43.62</td>\n",
       "      <td>34.62</td>\n",
       "      <td>20.6</td>\n",
       "      <td>86.0</td>\n",
       "      <td>1</td>\n",
       "    </tr>\n",
       "    <tr>\n",
       "      <th>7</th>\n",
       "      <td>104.35</td>\n",
       "      <td>98.00</td>\n",
       "      <td>20.3</td>\n",
       "      <td>94.0</td>\n",
       "      <td>0</td>\n",
       "    </tr>\n",
       "    <tr>\n",
       "      <th>8</th>\n",
       "      <td>19.22</td>\n",
       "      <td>13.25</td>\n",
       "      <td>19.3</td>\n",
       "      <td>92.0</td>\n",
       "      <td>1</td>\n",
       "    </tr>\n",
       "    <tr>\n",
       "      <th>9</th>\n",
       "      <td>2.02</td>\n",
       "      <td>5.22</td>\n",
       "      <td>27.1</td>\n",
       "      <td>66.0</td>\n",
       "      <td>0</td>\n",
       "    </tr>\n",
       "    <tr>\n",
       "      <th>10</th>\n",
       "      <td>28.87</td>\n",
       "      <td>26.45</td>\n",
       "      <td>23.9</td>\n",
       "      <td>79.0</td>\n",
       "      <td>0</td>\n",
       "    </tr>\n",
       "    <tr>\n",
       "      <th>11</th>\n",
       "      <td>45.98</td>\n",
       "      <td>41.88</td>\n",
       "      <td>23.8</td>\n",
       "      <td>72.0</td>\n",
       "      <td>0</td>\n",
       "    </tr>\n",
       "    <tr>\n",
       "      <th>12</th>\n",
       "      <td>122.38</td>\n",
       "      <td>107.23</td>\n",
       "      <td>20.3</td>\n",
       "      <td>94.0</td>\n",
       "      <td>0</td>\n",
       "    </tr>\n",
       "    <tr>\n",
       "      <th>13</th>\n",
       "      <td>44.33</td>\n",
       "      <td>46.87</td>\n",
       "      <td>25.3</td>\n",
       "      <td>70.0</td>\n",
       "      <td>0</td>\n",
       "    </tr>\n",
       "    <tr>\n",
       "      <th>14</th>\n",
       "      <td>8.18</td>\n",
       "      <td>5.47</td>\n",
       "      <td>30.2</td>\n",
       "      <td>45.0</td>\n",
       "      <td>1</td>\n",
       "    </tr>\n",
       "    <tr>\n",
       "      <th>15</th>\n",
       "      <td>3.53</td>\n",
       "      <td>4.45</td>\n",
       "      <td>29.1</td>\n",
       "      <td>64.0</td>\n",
       "      <td>0</td>\n",
       "    </tr>\n",
       "    <tr>\n",
       "      <th>16</th>\n",
       "      <td>29.10</td>\n",
       "      <td>19.57</td>\n",
       "      <td>20.5</td>\n",
       "      <td>89.0</td>\n",
       "      <td>1</td>\n",
       "    </tr>\n",
       "    <tr>\n",
       "      <th>17</th>\n",
       "      <td>85.58</td>\n",
       "      <td>106.43</td>\n",
       "      <td>22.3</td>\n",
       "      <td>74.0</td>\n",
       "      <td>0</td>\n",
       "    </tr>\n",
       "    <tr>\n",
       "      <th>18</th>\n",
       "      <td>14.63</td>\n",
       "      <td>18.72</td>\n",
       "      <td>20.4</td>\n",
       "      <td>91.0</td>\n",
       "      <td>0</td>\n",
       "    </tr>\n",
       "    <tr>\n",
       "      <th>19</th>\n",
       "      <td>86.48</td>\n",
       "      <td>75.33</td>\n",
       "      <td>20.4</td>\n",
       "      <td>95.0</td>\n",
       "      <td>0</td>\n",
       "    </tr>\n",
       "  </tbody>\n",
       "</table>\n",
       "</div>"
      ],
      "text/plain": [
       "    Sensor1  Sensor2  Temperature  Humidity  Offset_fault\n",
       "0     52.58    49.52         17.4      96.0             0\n",
       "1     35.25    33.40         25.0      75.0             0\n",
       "2     19.18    23.50         24.9      75.0             0\n",
       "3     19.40    15.48         24.9      70.0             0\n",
       "4     38.30    34.77         20.9      89.0             0\n",
       "5     27.58    18.92         26.1      57.0             1\n",
       "6     43.62    34.62         20.6      86.0             1\n",
       "7    104.35    98.00         20.3      94.0             0\n",
       "8     19.22    13.25         19.3      92.0             1\n",
       "9      2.02     5.22         27.1      66.0             0\n",
       "10    28.87    26.45         23.9      79.0             0\n",
       "11    45.98    41.88         23.8      72.0             0\n",
       "12   122.38   107.23         20.3      94.0             0\n",
       "13    44.33    46.87         25.3      70.0             0\n",
       "14     8.18     5.47         30.2      45.0             1\n",
       "15     3.53     4.45         29.1      64.0             0\n",
       "16    29.10    19.57         20.5      89.0             1\n",
       "17    85.58   106.43         22.3      74.0             0\n",
       "18    14.63    18.72         20.4      91.0             0\n",
       "19    86.48    75.33         20.4      95.0             0"
      ]
     },
     "execution_count": 7,
     "metadata": {},
     "output_type": "execute_result"
    }
   ],
   "source": [
    "ds = ds[['Sensor1_PM2.5', 'Sensor2_PM2.5', 'Temperature', 'Relative_Humidity', 'Offset_fault']]\n",
    "ds = ds.rename(columns={'Sensor1_PM2.5' : 'Sensor1', 'Sensor2_PM2.5':'Sensor2', 'Relative_Humidity':'Humidity'})\n",
    "ds.dropna(axis=0, inplace=True)\n",
    "ds.head(20)"
   ]
  },
  {
   "cell_type": "markdown",
   "id": "57cb318d",
   "metadata": {},
   "source": [
    "#### Vérification des valeurs manquantes après les traitements"
   ]
  },
  {
   "cell_type": "code",
   "execution_count": 8,
   "id": "82845b16",
   "metadata": {},
   "outputs": [
    {
     "data": {
      "text/plain": [
       "Sensor1         0\n",
       "Sensor2         0\n",
       "Temperature     0\n",
       "Humidity        0\n",
       "Offset_fault    0\n",
       "dtype: int64"
      ]
     },
     "execution_count": 8,
     "metadata": {},
     "output_type": "execute_result"
    }
   ],
   "source": [
    "ds.isnull().sum()"
   ]
  },
  {
   "cell_type": "markdown",
   "id": "d858ab30",
   "metadata": {},
   "source": [
    "#### La dimension actuelle du dataset"
   ]
  },
  {
   "cell_type": "code",
   "execution_count": 9,
   "id": "a43c31d7",
   "metadata": {},
   "outputs": [
    {
     "data": {
      "text/plain": [
       "(290014, 5)"
      ]
     },
     "execution_count": 9,
     "metadata": {},
     "output_type": "execute_result"
    }
   ],
   "source": [
    "ds.shape"
   ]
  },
  {
   "cell_type": "markdown",
   "id": "007fa6ce",
   "metadata": {},
   "source": [
    "#### Visualisation de la structure du dataset après les traitements"
   ]
  },
  {
   "cell_type": "code",
   "execution_count": 10,
   "id": "159cc6e4",
   "metadata": {
    "colab": {
     "base_uri": "https://localhost:8080/"
    },
    "id": "159cc6e4",
    "outputId": "08533bed-7dc1-4e9b-8b84-cda3d74a8114"
   },
   "outputs": [
    {
     "name": "stdout",
     "output_type": "stream",
     "text": [
      "<class 'pandas.core.frame.DataFrame'>\n",
      "Int64Index: 290014 entries, 0 to 297176\n",
      "Data columns (total 5 columns):\n",
      " #   Column        Non-Null Count   Dtype  \n",
      "---  ------        --------------   -----  \n",
      " 0   Sensor1       290014 non-null  float64\n",
      " 1   Sensor2       290014 non-null  float64\n",
      " 2   Temperature   290014 non-null  float64\n",
      " 3   Humidity      290014 non-null  float64\n",
      " 4   Offset_fault  290014 non-null  int64  \n",
      "dtypes: float64(4), int64(1)\n",
      "memory usage: 13.3 MB\n"
     ]
    }
   ],
   "source": [
    "ds.info()"
   ]
  },
  {
   "cell_type": "code",
   "execution_count": 11,
   "id": "8a00e0a9",
   "metadata": {},
   "outputs": [
    {
     "data": {
      "text/plain": [
       "Sensor1         float64\n",
       "Sensor2         float64\n",
       "Temperature     float64\n",
       "Humidity        float64\n",
       "Offset_fault      int64\n",
       "dtype: object"
      ]
     },
     "execution_count": 11,
     "metadata": {},
     "output_type": "execute_result"
    }
   ],
   "source": [
    "ds.dtypes"
   ]
  },
  {
   "cell_type": "markdown",
   "id": "221c0822",
   "metadata": {},
   "source": [
    "#### La description de chaque colonne du dataset"
   ]
  },
  {
   "cell_type": "code",
   "execution_count": 12,
   "id": "a757d644",
   "metadata": {},
   "outputs": [
    {
     "data": {
      "text/html": [
       "<div>\n",
       "<style scoped>\n",
       "    .dataframe tbody tr th:only-of-type {\n",
       "        vertical-align: middle;\n",
       "    }\n",
       "\n",
       "    .dataframe tbody tr th {\n",
       "        vertical-align: top;\n",
       "    }\n",
       "\n",
       "    .dataframe thead th {\n",
       "        text-align: right;\n",
       "    }\n",
       "</style>\n",
       "<table border=\"1\" class=\"dataframe\">\n",
       "  <thead>\n",
       "    <tr style=\"text-align: right;\">\n",
       "      <th></th>\n",
       "      <th>Sensor1</th>\n",
       "      <th>Sensor2</th>\n",
       "      <th>Temperature</th>\n",
       "      <th>Humidity</th>\n",
       "      <th>Offset_fault</th>\n",
       "    </tr>\n",
       "  </thead>\n",
       "  <tbody>\n",
       "    <tr>\n",
       "      <th>count</th>\n",
       "      <td>290014.000000</td>\n",
       "      <td>290014.000000</td>\n",
       "      <td>290014.000000</td>\n",
       "      <td>290014.000000</td>\n",
       "      <td>290014.000000</td>\n",
       "    </tr>\n",
       "    <tr>\n",
       "      <th>mean</th>\n",
       "      <td>40.902043</td>\n",
       "      <td>38.318980</td>\n",
       "      <td>23.322738</td>\n",
       "      <td>78.614394</td>\n",
       "      <td>0.369468</td>\n",
       "    </tr>\n",
       "    <tr>\n",
       "      <th>std</th>\n",
       "      <td>28.598373</td>\n",
       "      <td>28.722693</td>\n",
       "      <td>3.841953</td>\n",
       "      <td>14.791905</td>\n",
       "      <td>0.482662</td>\n",
       "    </tr>\n",
       "    <tr>\n",
       "      <th>min</th>\n",
       "      <td>-9.450000</td>\n",
       "      <td>-9.700000</td>\n",
       "      <td>16.700000</td>\n",
       "      <td>27.000000</td>\n",
       "      <td>0.000000</td>\n",
       "    </tr>\n",
       "    <tr>\n",
       "      <th>25%</th>\n",
       "      <td>22.570000</td>\n",
       "      <td>19.620000</td>\n",
       "      <td>20.400000</td>\n",
       "      <td>68.000000</td>\n",
       "      <td>0.000000</td>\n",
       "    </tr>\n",
       "    <tr>\n",
       "      <th>50%</th>\n",
       "      <td>36.650000</td>\n",
       "      <td>33.850000</td>\n",
       "      <td>21.900000</td>\n",
       "      <td>84.000000</td>\n",
       "      <td>0.000000</td>\n",
       "    </tr>\n",
       "    <tr>\n",
       "      <th>75%</th>\n",
       "      <td>49.550000</td>\n",
       "      <td>47.700000</td>\n",
       "      <td>26.300000</td>\n",
       "      <td>91.000000</td>\n",
       "      <td>1.000000</td>\n",
       "    </tr>\n",
       "    <tr>\n",
       "      <th>max</th>\n",
       "      <td>997.960000</td>\n",
       "      <td>997.260000</td>\n",
       "      <td>34.900000</td>\n",
       "      <td>99.000000</td>\n",
       "      <td>1.000000</td>\n",
       "    </tr>\n",
       "  </tbody>\n",
       "</table>\n",
       "</div>"
      ],
      "text/plain": [
       "             Sensor1        Sensor2    Temperature       Humidity  \\\n",
       "count  290014.000000  290014.000000  290014.000000  290014.000000   \n",
       "mean       40.902043      38.318980      23.322738      78.614394   \n",
       "std        28.598373      28.722693       3.841953      14.791905   \n",
       "min        -9.450000      -9.700000      16.700000      27.000000   \n",
       "25%        22.570000      19.620000      20.400000      68.000000   \n",
       "50%        36.650000      33.850000      21.900000      84.000000   \n",
       "75%        49.550000      47.700000      26.300000      91.000000   \n",
       "max       997.960000     997.260000      34.900000      99.000000   \n",
       "\n",
       "        Offset_fault  \n",
       "count  290014.000000  \n",
       "mean        0.369468  \n",
       "std         0.482662  \n",
       "min         0.000000  \n",
       "25%         0.000000  \n",
       "50%         0.000000  \n",
       "75%         1.000000  \n",
       "max         1.000000  "
      ]
     },
     "execution_count": 12,
     "metadata": {},
     "output_type": "execute_result"
    }
   ],
   "source": [
    "ds.describe()"
   ]
  },
  {
   "cell_type": "markdown",
   "id": "91ba025f",
   "metadata": {},
   "source": [
    "#### Définition de la fonction de standardisation"
   ]
  },
  {
   "cell_type": "code",
   "execution_count": 13,
   "id": "610ab940",
   "metadata": {},
   "outputs": [],
   "source": [
    "def standard(x):\n",
    "  return  (x -np.mean(x))/np.std(x)"
   ]
  },
  {
   "cell_type": "markdown",
   "id": "dce9426d",
   "metadata": {},
   "source": [
    "#### Détermination de variable X comme feature et y target"
   ]
  },
  {
   "cell_type": "code",
   "execution_count": 14,
   "id": "da69ce07",
   "metadata": {
    "id": "da69ce07"
   },
   "outputs": [],
   "source": [
    "X = ds.drop('Offset_fault', axis=1)\n",
    "y = ds['Offset_fault']"
   ]
  },
  {
   "cell_type": "markdown",
   "id": "d683f403",
   "metadata": {
    "id": "d683f403"
   },
   "source": [
    "#### Le contenu de X et sa dimension"
   ]
  },
  {
   "cell_type": "code",
   "execution_count": 15,
   "id": "dfd40082",
   "metadata": {
    "colab": {
     "base_uri": "https://localhost:8080/",
     "height": 423
    },
    "id": "dfd40082",
    "outputId": "e42986ad-deb6-48ad-b2d6-a49c213a5996"
   },
   "outputs": [
    {
     "data": {
      "text/html": [
       "<div>\n",
       "<style scoped>\n",
       "    .dataframe tbody tr th:only-of-type {\n",
       "        vertical-align: middle;\n",
       "    }\n",
       "\n",
       "    .dataframe tbody tr th {\n",
       "        vertical-align: top;\n",
       "    }\n",
       "\n",
       "    .dataframe thead th {\n",
       "        text-align: right;\n",
       "    }\n",
       "</style>\n",
       "<table border=\"1\" class=\"dataframe\">\n",
       "  <thead>\n",
       "    <tr style=\"text-align: right;\">\n",
       "      <th></th>\n",
       "      <th>Sensor1</th>\n",
       "      <th>Sensor2</th>\n",
       "      <th>Temperature</th>\n",
       "      <th>Humidity</th>\n",
       "    </tr>\n",
       "  </thead>\n",
       "  <tbody>\n",
       "    <tr>\n",
       "      <th>0</th>\n",
       "      <td>52.58</td>\n",
       "      <td>49.52</td>\n",
       "      <td>17.4</td>\n",
       "      <td>96.0</td>\n",
       "    </tr>\n",
       "    <tr>\n",
       "      <th>1</th>\n",
       "      <td>35.25</td>\n",
       "      <td>33.40</td>\n",
       "      <td>25.0</td>\n",
       "      <td>75.0</td>\n",
       "    </tr>\n",
       "    <tr>\n",
       "      <th>2</th>\n",
       "      <td>19.18</td>\n",
       "      <td>23.50</td>\n",
       "      <td>24.9</td>\n",
       "      <td>75.0</td>\n",
       "    </tr>\n",
       "    <tr>\n",
       "      <th>3</th>\n",
       "      <td>19.40</td>\n",
       "      <td>15.48</td>\n",
       "      <td>24.9</td>\n",
       "      <td>70.0</td>\n",
       "    </tr>\n",
       "    <tr>\n",
       "      <th>4</th>\n",
       "      <td>38.30</td>\n",
       "      <td>34.77</td>\n",
       "      <td>20.9</td>\n",
       "      <td>89.0</td>\n",
       "    </tr>\n",
       "    <tr>\n",
       "      <th>...</th>\n",
       "      <td>...</td>\n",
       "      <td>...</td>\n",
       "      <td>...</td>\n",
       "      <td>...</td>\n",
       "    </tr>\n",
       "    <tr>\n",
       "      <th>297172</th>\n",
       "      <td>36.40</td>\n",
       "      <td>37.77</td>\n",
       "      <td>28.6</td>\n",
       "      <td>62.0</td>\n",
       "    </tr>\n",
       "    <tr>\n",
       "      <th>297173</th>\n",
       "      <td>50.12</td>\n",
       "      <td>40.63</td>\n",
       "      <td>21.6</td>\n",
       "      <td>86.0</td>\n",
       "    </tr>\n",
       "    <tr>\n",
       "      <th>297174</th>\n",
       "      <td>53.68</td>\n",
       "      <td>45.23</td>\n",
       "      <td>20.2</td>\n",
       "      <td>94.0</td>\n",
       "    </tr>\n",
       "    <tr>\n",
       "      <th>297175</th>\n",
       "      <td>96.45</td>\n",
       "      <td>114.67</td>\n",
       "      <td>20.6</td>\n",
       "      <td>93.0</td>\n",
       "    </tr>\n",
       "    <tr>\n",
       "      <th>297176</th>\n",
       "      <td>44.27</td>\n",
       "      <td>36.77</td>\n",
       "      <td>17.3</td>\n",
       "      <td>95.0</td>\n",
       "    </tr>\n",
       "  </tbody>\n",
       "</table>\n",
       "<p>290014 rows × 4 columns</p>\n",
       "</div>"
      ],
      "text/plain": [
       "        Sensor1  Sensor2  Temperature  Humidity\n",
       "0         52.58    49.52         17.4      96.0\n",
       "1         35.25    33.40         25.0      75.0\n",
       "2         19.18    23.50         24.9      75.0\n",
       "3         19.40    15.48         24.9      70.0\n",
       "4         38.30    34.77         20.9      89.0\n",
       "...         ...      ...          ...       ...\n",
       "297172    36.40    37.77         28.6      62.0\n",
       "297173    50.12    40.63         21.6      86.0\n",
       "297174    53.68    45.23         20.2      94.0\n",
       "297175    96.45   114.67         20.6      93.0\n",
       "297176    44.27    36.77         17.3      95.0\n",
       "\n",
       "[290014 rows x 4 columns]"
      ]
     },
     "execution_count": 15,
     "metadata": {},
     "output_type": "execute_result"
    }
   ],
   "source": [
    "X"
   ]
  },
  {
   "cell_type": "code",
   "execution_count": 16,
   "id": "751397fa",
   "metadata": {},
   "outputs": [
    {
     "data": {
      "text/plain": [
       "(290014, 4)"
      ]
     },
     "execution_count": 16,
     "metadata": {},
     "output_type": "execute_result"
    }
   ],
   "source": [
    "X.shape"
   ]
  },
  {
   "cell_type": "markdown",
   "id": "3e4a2a20",
   "metadata": {},
   "source": [
    "#### Application de la standardisation aux features (Sensor1, Sensor2, Temperature, Relative_Himidity, offset_fault)"
   ]
  },
  {
   "cell_type": "code",
   "execution_count": 17,
   "id": "e54bf630",
   "metadata": {},
   "outputs": [
    {
     "name": "stdout",
     "output_type": "stream",
     "text": [
      "         Sensor1   Sensor2  Temperature  Humidity  Offset_fault\n",
      "0       0.408344  0.389972    -1.541598  1.175348             0\n",
      "1      -0.197635 -0.171258     0.436566 -0.244350             0\n",
      "2      -0.759557 -0.515934     0.410537 -0.244350             0\n",
      "3      -0.751864 -0.795156     0.410537 -0.582373             0\n",
      "4      -0.090986 -0.123560    -0.630602  0.702115             0\n",
      "...          ...       ...          ...       ...           ...\n",
      "297172 -0.157423 -0.019113     1.373591 -1.123211             0\n",
      "297173  0.322325  0.080460    -0.448402  0.499301             1\n",
      "297174  0.446808  0.240612    -0.812801  1.040139             1\n",
      "297175  1.942350  2.658217    -0.708687  0.972534             0\n",
      "297176  0.117768 -0.053929    -1.567627  1.107743             1\n",
      "\n",
      "[290014 rows x 5 columns]\n"
     ]
    },
    {
     "name": "stderr",
     "output_type": "stream",
     "text": [
      "D:\\anaconda\\lib\\site-packages\\numpy\\core\\fromnumeric.py:3438: FutureWarning: In a future version, DataFrame.mean(axis=None) will return a scalar mean over the entire DataFrame. To retain the old behavior, use 'frame.mean(axis=0)' or just 'frame.mean()'\n",
      "  return mean(axis=axis, dtype=dtype, out=out, **kwargs)\n"
     ]
    }
   ],
   "source": [
    "ds.iloc[:,:-1] = standard(ds)\n",
    "print(ds)"
   ]
  },
  {
   "cell_type": "markdown",
   "id": "48279463",
   "metadata": {},
   "source": [
    "#### La phase de test et d'entrainnement du modèle avec 20% de donnée pour le test et 80% pour l'entrainnement"
   ]
  },
  {
   "cell_type": "code",
   "execution_count": 18,
   "id": "cd96c5ec",
   "metadata": {
    "colab": {
     "base_uri": "https://localhost:8080/"
    },
    "id": "cd96c5ec",
    "outputId": "647d73ce-1f3d-4ef4-ad39-ead62ebd2a2b"
   },
   "outputs": [
    {
     "data": {
      "text/plain": [
       "((232011, 4), (58003, 4), (232011,), (58003,))"
      ]
     },
     "execution_count": 18,
     "metadata": {},
     "output_type": "execute_result"
    }
   ],
   "source": [
    "X_train, X_test, y_train, y_test = train_test_split(X, y, test_size=0.2)\n",
    "\n",
    "X_train.shape, X_test.shape, y_train.shape, y_test.shape "
   ]
  },
  {
   "cell_type": "markdown",
   "id": "a417c5e3",
   "metadata": {},
   "source": [
    "#### L'appel de la fonction KNeighborsClassifier() de la bibliothèque sklearn.neighbors pour l'implémentation du modèle"
   ]
  },
  {
   "cell_type": "code",
   "execution_count": 19,
   "id": "5002f9bb",
   "metadata": {
    "colab": {
     "base_uri": "https://localhost:8080/"
    },
    "id": "5002f9bb",
    "outputId": "c45b97d7-e308-4e4c-afce-ae8f0d7ccd20"
   },
   "outputs": [
    {
     "data": {
      "text/plain": [
       "0.9565779583054611"
      ]
     },
     "execution_count": 19,
     "metadata": {},
     "output_type": "execute_result"
    }
   ],
   "source": [
    "model_knn = KNeighborsClassifier(n_neighbors=5)\n",
    "model_knn.fit(X,y)\n",
    "y_pred = model_knn.predict(X_test)\n",
    "model_knn.score(X,y)"
   ]
  },
  {
   "cell_type": "markdown",
   "id": "952cec94",
   "metadata": {},
   "source": [
    "#### La définition d'une fonction permettant de prédire si un appareil est déffectueux (1) ou pas (0)"
   ]
  },
  {
   "cell_type": "code",
   "execution_count": 20,
   "id": "0e6f111e",
   "metadata": {
    "id": "0e6f111e"
   },
   "outputs": [],
   "source": [
    "def defectueux(model_knn, Sensor1=52.25, Sensor2=93.40, Temperature=27.0, Relative_Humidity=95.0):\n",
    "    x = np.array([Sensor1, Sensor2, Temperature, Relative_Humidity ]).reshape(1, 4)\n",
    "    print(model_knn.predict(x))"
   ]
  },
  {
   "cell_type": "code",
   "execution_count": 21,
   "id": "9f763e66",
   "metadata": {
    "colab": {
     "base_uri": "https://localhost:8080/"
    },
    "id": "9f763e66",
    "outputId": "d61c7284-d4e1-4e31-9263-eabca9e921e3"
   },
   "outputs": [
    {
     "name": "stdout",
     "output_type": "stream",
     "text": [
      "[0]\n"
     ]
    },
    {
     "name": "stderr",
     "output_type": "stream",
     "text": [
      "C:\\Users\\MSIEA\\AppData\\Roaming\\Python\\Python39\\site-packages\\sklearn\\base.py:439: UserWarning: X does not have valid feature names, but KNeighborsClassifier was fitted with feature names\n",
      "  warnings.warn(\n"
     ]
    }
   ],
   "source": [
    "defectueux(model_knn)"
   ]
  },
  {
   "cell_type": "markdown",
   "id": "1586394a",
   "metadata": {
    "id": "d2c30d5f"
   },
   "source": [
    "#### L'évaluation de la performance du modèle à travers certaines mesures"
   ]
  },
  {
   "cell_type": "code",
   "execution_count": 22,
   "id": "0b911dda",
   "metadata": {
    "colab": {
     "base_uri": "https://localhost:8080/"
    },
    "id": "0b911dda",
    "outputId": "d67669fc-08e2-47d9-863f-5e085dc1b633"
   },
   "outputs": [
    {
     "name": "stdout",
     "output_type": "stream",
     "text": [
      "Exactitude : 0.9559505542816751\n",
      "Précision : 0.9410195197303749\n",
      "Rappel : 0.9394803252640433\n",
      "Score F1 : 0.9402492925796869\n"
     ]
    }
   ],
   "source": [
    "print('Exactitude :', accuracy_score(y_test, y_pred))\n",
    "print('Précision :', precision_score(y_test, y_pred))\n",
    "print('Rappel :', recall_score(y_test, y_pred))\n",
    "print('Score F1 :', f1_score(y_test, y_pred))"
   ]
  },
  {
   "cell_type": "markdown",
   "id": "wwNOpBZdUkIz",
   "metadata": {
    "id": "wwNOpBZdUkIz"
   },
   "source": [
    "#### Calcule de la précision du modèle sur les données de test"
   ]
  },
  {
   "cell_type": "code",
   "execution_count": 23,
   "id": "aa543c83",
   "metadata": {
    "id": "aa543c83"
   },
   "outputs": [],
   "source": [
    "accuracy = accuracy_score(y_test, y_pred)"
   ]
  },
  {
   "cell_type": "markdown",
   "id": "rhi9XywAUxq6",
   "metadata": {
    "id": "rhi9XywAUxq6"
   },
   "source": [
    "#### Le tracé du nuage de points avec des  couleurs allant du rouge chaud pour des valeurs  qui sont pédites incorrectes  et au  bleu froid pour des valeurs qui sont prédites correctes"
   ]
  },
  {
   "cell_type": "code",
   "execution_count": 24,
   "id": "_a_8-K1FRwdL",
   "metadata": {
    "colab": {
     "base_uri": "https://localhost:8080/",
     "height": 447
    },
    "id": "_a_8-K1FRwdL",
    "outputId": "297f925b-bd30-4ed5-89e9-25f7f03d0fa7"
   },
   "outputs": [
    {
     "data": {
      "text/plain": [
       "<matplotlib.collections.PathCollection at 0x1f0086603d0>"
      ]
     },
     "execution_count": 24,
     "metadata": {},
     "output_type": "execute_result"
    },
    {
     "data": {
      "image/png": "[encoded data removed]",
      "text/plain": [
       "<Figure size 640x480 with 1 Axes>"
      ]
     },
     "metadata": {},
     "output_type": "display_data"
    }
   ],
   "source": [
    "plt.scatter(X_test.iloc[:, 0], X_test.iloc[:, 1], c=y_pred != y_test, cmap='coolwarm')"
   ]
  },
  {
   "cell_type": "markdown",
   "id": "19f25b75",
   "metadata": {},
   "source": [
    "#### On costate que le modèle est un bon modèle (idéale) car sur la figure ci-dessus, il y a très peu de points rouge (valeurs mal prédites) et c'est totalement dominé par des points bleu (valeurs correctement prédites)"
   ]
  },
  {
   "cell_type": "code",
   "execution_count": null,
   "id": "94b85205",
   "metadata": {},
   "outputs": [],
   "source": []
  }
 ],
 "metadata": {
  "colab": {
   "provenance": []
  },
  "kernelspec": {
   "display_name": "Python 3 (ipykernel)",
   "language": "python",
   "name": "python3"
  },
  "language_info": {
   "codemirror_mode": {
    "name": "ipython",
    "version": 3
   },
   "file_extension": ".py",
   "mimetype": "text/x-python",
   "name": "python",
   "nbconvert_exporter": "python",
   "pygments_lexer": "ipython3",
   "version": "3.9.13"
  }
 },
 "nbformat": 4,
 "nbformat_minor": 5
}
